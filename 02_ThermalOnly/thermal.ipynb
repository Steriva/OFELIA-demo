{
 "cells": [
  {
   "cell_type": "markdown",
   "metadata": {},
   "source": [
    "### 3D cyl"
   ]
  },
  {
   "cell_type": "code",
   "execution_count": 1,
   "metadata": {},
   "outputs": [],
   "source": [
    "import os\n",
    "import time\n",
    "\n",
    "import sys\n",
    "\n",
    "benchmark_path = '../BenchmarkData/'\n",
    "sys.path.append('../')\n",
    "\n",
    "from ofelia.aux_obj import *\n",
    "\n",
    "import matplotlib.pyplot as plt\n",
    "from matplotlib import cm\n",
    "\n",
    "from constants import *\n",
    "\n",
    "import numpy as np\n",
    "import gmsh"
   ]
  },
  {
   "cell_type": "markdown",
   "metadata": {},
   "source": [
    "Setting OpenMC materials"
   ]
  },
  {
   "cell_type": "code",
   "execution_count": 2,
   "metadata": {},
   "outputs": [
    {
     "name": "stdout",
     "output_type": "stream",
     "text": [
      "The number of axial divisions is 8\n",
      "The pin power is set to 65.0 kW\n"
     ]
    }
   ],
   "source": [
    "#configure cross sections\n",
    "# openmc.config[\"cross_sections\"]=\"/home/neutron/OpenMC/cross_sections/endfb-viii.0-hdf5/cross_sections.xml\"\n",
    "\n",
    "#HERE WE SHOULD BUILD THE MATERIALS\n",
    "# from ofelia.constants import *\n",
    "#from ofelia.materials import * # importing parameters and OpenMC materials\n",
    "from materials import *\n",
    "\n",
    "path_res = './results_'+str(n_div)+'div_'+str(Power/1000)+'kW/'\n",
    "if not os.path.exists(path_res):\n",
    "    os.system(\"mkdir \"+path_res)\n",
    "\n",
    "print('The number of axial divisions is '+ str(n_div))\n",
    "print('The pin power is set to ' +str(Power/1000)+' kW')\n",
    "\n",
    "xml_materials = updateXML(mat_dict, n_div)"
   ]
  },
  {
   "cell_type": "markdown",
   "metadata": {},
   "source": [
    "### Create gmsh geometry"
   ]
  },
  {
   "cell_type": "code",
   "execution_count": 3,
   "metadata": {},
   "outputs": [],
   "source": [
    "vol_markers = [1000,1001,1002]\n",
    "surf_markers = [10]"
   ]
  },
  {
   "cell_type": "code",
   "execution_count": 4,
   "metadata": {},
   "outputs": [],
   "source": [
    "mesh_factor = 0.003\n",
    "\n",
    "center_x = 0\n",
    "center_y = 0\n",
    "base_z = -l_active/2"
   ]
  },
  {
   "cell_type": "code",
   "execution_count": 5,
   "metadata": {},
   "outputs": [],
   "source": [
    "path_mesh = '../mesh/'\n",
    "os.makedirs(path_mesh, exist_ok=True)\n",
    "\n",
    "if os.path.exists(path_mesh+\"cyl3D.msh\") == False:\n",
    "\n",
    "    gmsh.initialize()\n",
    "    gmsh.clear()\n",
    "\n",
    "    tag = 1\n",
    "    cyl1 = gmsh.model.occ.addCylinder(center_x,center_y,base_z,0,0,l_active, fuel_or, tag = tag) #fuel\n",
    "    tag += 1\n",
    "\n",
    "    cyl2 = gmsh.model.occ.addCylinder(center_x,center_y,base_z,0,0,l_active, clad_ir, tag = tag) #outer gap\n",
    "    tag += 1\n",
    "\n",
    "    cyl3 = gmsh.model.occ.addCylinder(center_x,center_y,base_z,0,0,l_active, clad_or, tag = tag) #outer clad\n",
    "    tag += 1\n",
    "\n",
    "    #clad\n",
    "    cyl4 = gmsh.model.occ.addCylinder(center_x,center_y,base_z,0,0,l_active, clad_ir, tag = tag) #outer gap\n",
    "    tag += 1\n",
    "\n",
    "\n",
    "    #fuel\n",
    "    fuel = gmsh.model.occ.addCylinder(center_x,center_y,base_z,0,0,l_active, fuel_or, tag = tag)\n",
    "    tag += 1\n",
    "\n",
    "\n",
    "    #gap\n",
    "    gmsh.model.occ.cut([(3,cyl2)],[(3,cyl1)],tag = tag)\n",
    "    gap = tag\n",
    "    tag += 1\n",
    "\n",
    "\n",
    "    #clad\n",
    "    gmsh.model.occ.cut([(3,cyl3)],[(3,cyl4)],tag = tag)\n",
    "    clad = tag\n",
    "    tag += 1\n",
    "\n",
    "    #sync required to get vol and surfaces\n",
    "    gmsh.model.occ.synchronize()\n",
    "\n",
    "    gmsh.model.occ.removeAllDuplicates()\n",
    "\n",
    "    gmsh.model.occ.synchronize()\n",
    "\n",
    "    volume = gmsh.model.getEntities(dim=3)[0]\n",
    "\n",
    "    #add physical group and name\n",
    "    gmsh.model.addPhysicalGroup(3,[fuel], vol_markers[0])\n",
    "    gmsh.model.addPhysicalGroup(3,[gap], vol_markers[1])\n",
    "    gmsh.model.addPhysicalGroup(3,[clad], vol_markers[2])\n",
    "\n",
    "    #gmsh.model.addPhysicalGroup(volume[0],[volume[1]], vol_markers) # require dimension (3 for volumes or volumes[0]) and ele tag returned by volumes[1]\n",
    "    #gmsh.model.setPhysicalName(volume[0], vol_markers, \"cyl_volume\")\n",
    "\n",
    "    #get surfaces\n",
    "    surfaces = gmsh.model.occ.getEntities(dim=2)\n",
    "\n",
    "    bbox_volumes = []\n",
    "    ids = []\n",
    "    #assign physical groups\n",
    "    for surface in surfaces:\n",
    "        #get center of mass of the surface\n",
    "        com = gmsh.model.occ.getCenterOfMass(surface[0],surface[1])\n",
    "        \n",
    "\n",
    "        bottom_condition = np.allclose(com[-1],base_z,rtol = 1e-3) and np.allclose(com[0],center_x,rtol = 1e-3) and np.allclose(com[1],center_y,rtol = 1e-3)\n",
    "        top_condition = np.allclose(com[-1],base_z+l_active,rtol = 1e-3) and np.allclose(com[0],center_x,rtol = 1e-3) and np.allclose(com[1],center_y,rtol = 1e-3)\n",
    "\n",
    "        if not bottom_condition and not top_condition: #then compute bounding boxes vols\n",
    "            xmin,ymin,zmin,xmax,ymax,zmax = gmsh.model.occ.getBoundingBox(2,surface[1])\n",
    "            #print(np.abs(xmax-xmin)*np.abs(ymax-ymin)*np.abs(zmax-zmin))\n",
    "            bbox_volumes.append(np.abs(xmax-xmin)*np.abs(ymax-ymin)*np.abs(zmax-zmin))\n",
    "            ids.append(surface[1])\n",
    "\n",
    "    id_max = np.argmax(bbox_volumes)\n",
    "    id = ids[id_max]\n",
    "\n",
    "    gmsh.model.addPhysicalGroup(2,[id], surf_markers[0])\n",
    "\n",
    "    #sync\n",
    "    gmsh.model.occ.synchronize()\n",
    "\n",
    "    #crete_mesh\n",
    "    gmsh.option.setNumber(\"Mesh.MeshSizeFactor\", mesh_factor)\n",
    "\n",
    "    #gmsh.fltk.run()\n",
    "\n",
    "    gmsh.model.mesh.generate(1)\n",
    "    gmsh.model.mesh.generate(2)\n",
    "    gmsh.model.mesh.generate(3)\n",
    "\n",
    "    gmsh.option.setNumber(\"Mesh.MshFileVersion\", 2) #save in ASCII 2 format\n",
    "    gmsh.write(path_mesh+\"cyl3D.msh\")\n",
    "    gmsh.finalize()"
   ]
  },
  {
   "cell_type": "markdown",
   "metadata": {},
   "source": [
    "### Set up the thermal solver"
   ]
  },
  {
   "cell_type": "code",
   "execution_count": 6,
   "metadata": {},
   "outputs": [],
   "source": [
    "from ofelia.thermal import *\n",
    "from dolfinx.io import gmshio\n",
    "from mpi4py import MPI\n",
    "from IPython.display import clear_output"
   ]
  },
  {
   "cell_type": "markdown",
   "metadata": {},
   "source": [
    "### get the domain"
   ]
  },
  {
   "cell_type": "code",
   "execution_count": 7,
   "metadata": {},
   "outputs": [
    {
     "name": "stdout",
     "output_type": "stream",
     "text": [
      "Info    : Reading '../mesh/cyl3D.msh'...\n",
      "Info    : 360976 nodes\n",
      "Info    : 2063112 elements                                                                                    \n",
      "Info    : Done reading '../mesh/cyl3D.msh'                                                                       \n"
     ]
    }
   ],
   "source": [
    "gmsh.initialize()\n",
    "gmsh.merge(path_mesh+\"cyl3D.msh\")\n",
    "\n",
    "mesh_comm = MPI.COMM_WORLD\n",
    "gdim = 3\n",
    "model_rank = 0 \n",
    "\n",
    "domain, ct, ft = gmshio.model_to_mesh(gmsh.model, comm = mesh_comm, rank = model_rank, gdim = gdim )\n",
    "\n",
    "#now we finalize\n",
    "gmsh.finalize()"
   ]
  },
  {
   "cell_type": "markdown",
   "metadata": {},
   "source": [
    "### Set physical parameters, BCs and power profile"
   ]
  },
  {
   "cell_type": "code",
   "execution_count": 8,
   "metadata": {},
   "outputs": [],
   "source": [
    "# The thermal conducticity of the helium gap is increased to consider the radiation HT\n",
    "th_input = thermal_inputs(T_w_average, pressure)\n",
    "\n",
    "physical_param = {'th_cond': np.array([3,0.25 * 3, 16.23]) / 100.}\n",
    "\n",
    "T_b_fun = lambda x: 300 + 0.*x[0]+ 0.*x[1] + 0*np.sin((x[2]-base_z)/l_active*np.pi/2)\n",
    "\n",
    "#bcs = [robin_class(marker = surf_markers[0], name = \"side_boundary\",h = 0.1, Tb = T_b_fun),robin_class(marker = surf_markers[1], name = \"side_boundary\",h = 3000, Tb = T_b_fun2)]\n",
    "bcs =[robin_class(marker = surf_markers[-1],h = th_input.compute_htc(pitch, clad_or,u_in), Tb = T_b_fun)]\n",
    "\n",
    "#power distribution must be an interpolant\n",
    "power_funs = [lambda x: 0. + 0.*x[0] + 0.*x[1] + np.cos(x[2]/l_active*np.pi/2)]"
   ]
  },
  {
   "cell_type": "markdown",
   "metadata": {},
   "source": [
    "### Create the thermal system"
   ]
  },
  {
   "cell_type": "code",
   "execution_count": 9,
   "metadata": {},
   "outputs": [],
   "source": [
    "#Create the thermal system\n",
    "TH = thermal_solver(domain = domain, ct = ct, ft = ft,\n",
    "                    physical_param = physical_param, regions_markers = vol_markers)\n",
    "\n",
    "#initialise Bcs\n",
    "TH.applyBCs(bcs)\n",
    "\n",
    "#Assamble the thermal system\n",
    "TH.assemble()\n",
    "\n",
    "\n",
    "Vnorms = norms(TH.funSpace, domain)"
   ]
  },
  {
   "cell_type": "markdown",
   "metadata": {},
   "source": [
    "### Run the thermal simulation"
   ]
  },
  {
   "cell_type": "code",
   "execution_count": 10,
   "metadata": {},
   "outputs": [
    {
     "name": "stdout",
     "output_type": "stream",
     "text": [
      "##################################################################\n",
      "##                                                              ##\n",
      "##          OOO   FFFFF  EEEEEE   L      III       A            ##\n",
      "##         O   O  F      E        L       I       A A           ##\n",
      "##        O     O F      E        L       I      AAAAA          ##\n",
      "##        O     O FFFF   EEEEEE   L       I     A     A         ##\n",
      "##        O     O F      E        L       I     AAAAAAA         ##\n",
      "##         O   O  F      E        L       I    A       A        ##\n",
      "##          OOO   F      EEEEEEE  LLLLL  III  A         A       ##\n",
      "##                                                              ##\n",
      "##################################################################\n",
      "##                                                              ##\n",
      "##           Openmc-FEnicsx for muLtiphysics tutorIAl           ##\n",
      "##                          -------                             ##\n",
      "##             ERMETE Lab - Politecnico di Milano               ##\n",
      "##                                                              ##         \n",
      "##       GitHub: https://github.com/ERMETE-Lab/MP-OFELIA        ## \n",
      "##                                                              ##\n",
      "##################################################################\n",
      "\n",
      "\n",
      "                   -- Simulation Start --\n",
      "\n"
     ]
    }
   ],
   "source": [
    "os.system(f\"cat ../ofelia/header\")\n",
    "print(\"\\n                   -- Simulation Start --\\n\")"
   ]
  },
  {
   "cell_type": "markdown",
   "metadata": {},
   "source": [
    "Algorithm:\n",
    "\n",
    "- guess temepratures\n",
    "CYCLE\n",
    "- Run openmc simulation\n",
    "- get power tally\n",
    "- convert power to readable interpolant\n",
    "- Update BCs\n",
    "- Solve thermal problem\n",
    "- update temperatures\n",
    "- check exit condition\n"
   ]
  },
  {
   "cell_type": "code",
   "execution_count": 11,
   "metadata": {},
   "outputs": [
    {
     "name": "stdout",
     "output_type": "stream",
     "text": [
      "Iter #00\n",
      "  Running OpenMC\n",
      "\n",
      "   Input Pin Power: 65.00 kW\n",
      "   Pin Power calculated (MC): 67.0053 +- 1.70 kW\n",
      "\n",
      "   keff: 1.381361 +- 0.001513\n",
      "  Running FEniCSx\n",
      "  \n",
      "  Error on power density: 1.000000\n",
      "  Error on temperature  : 1.961439\n",
      "  \n",
      "Iter #01\n",
      "  Running OpenMC\n",
      "   keff: 1.361655 +- 0.001099\n",
      "  Running FEniCSx\n",
      "  \n",
      "  Error on power density: 0.162985\n",
      "  Error on temperature  : 0.064979\n",
      "  \n",
      "Iter #02\n",
      "  Running OpenMC\n",
      "   keff: 1.358630 +- 0.001057\n",
      "  Running FEniCSx\n",
      "  \n",
      "  Error on power density: 0.042075\n",
      "  Error on temperature  : 0.016649\n",
      "  \n",
      "Iter #03\n",
      "  Running OpenMC\n",
      "   keff: 1.356529 +- 0.000936\n",
      "  Running FEniCSx\n",
      "  \n",
      "  Error on power density: 0.055729\n",
      "  Error on temperature  : 0.022056\n",
      "  \n",
      "Iter #04\n",
      "  Running OpenMC\n",
      "   keff: 1.358029 +- 0.000892\n",
      "  Running FEniCSx\n",
      "  \n",
      "  Error on power density: 0.030562\n",
      "  Error on temperature  : 0.012141\n",
      "  \n",
      "Convergence reached!\n"
     ]
    }
   ],
   "source": [
    "#Guess temperature\n",
    "Tguess = []\n",
    "Tguess.append(np.ones((n_div,)) * 300)\n",
    "Tguess.append(np.ones((n_div,)) * 300)\n",
    "\n",
    "T_old = Function(TH.funSpace)\n",
    "T_old.interpolate(lambda x: x[0] * 0. + 300)\n",
    "\n",
    "\n",
    "# cycle control variables\n",
    "i = 0\n",
    "error = 10*tol #initialise error > tol\n",
    "alpha = 1\n",
    "s1 = s1_val\n",
    "sum_s = s1\n",
    "\n",
    "# Defining class to convert power from OpenMC to FEniCSx\n",
    "ExtractPower = extract_power(n_div, Power, meshSize, pin_length, pin_r, J_to_eV, tallyDict)\n",
    "\n",
    "# The division in slices acts only on the active region\n",
    "slices = np.linspace(base_z, base_z + l_active, n_div+1)\n",
    "\n",
    "# input folder path\n",
    "path = os.getcwd()\n",
    "\n",
    "# allocate pow density, population and errors lists\n",
    "q3_relaxed_list = []\n",
    "q3_std_list = []\n",
    "z_list = []\n",
    "\n",
    "alpha_list = [1]\n",
    "pop_list = [s1]\n",
    "errors_q3_list = [1]\n",
    "\n",
    "# remove pre-existing folders\n",
    "#from ofelia.build_xml import *\n",
    "from build_xml import *\n",
    "RemoveFolders(path=os.getcwd())\n",
    "\n",
    "# print(\"Guess temperatures: \"+ str(Tguess) +\" for volumes tag\" + str(vol_markers))\n",
    "\n",
    "while error > tol: \n",
    "    # print iteration number - define iteration folder for .xml\n",
    "    print(f'Iter #{i+0:02}')\n",
    "    input_folder = path + '/build_xml/it' + str(i)\n",
    "    os.makedirs(input_folder, exist_ok=True)\n",
    "    \n",
    "    # RUN OPENMC SIMULATION\n",
    "    print('  Running OpenMC')\n",
    "    openmc.run(threads = 8, cwd=input_folder, output = False)\n",
    "\n",
    "\n",
    "    #Rename the output with the info\n",
    "    old_sp_name = 'statepoint.'+str(batches)+'.h5'\n",
    "    old_sp_path = input_folder + '/' +old_sp_name\n",
    "\n",
    "    new_sp_name = 'statepoint.'+str(batches)+'.it' + str(i) + '.h5'\n",
    "    new_sp_path = input_folder + '/' +new_sp_name\n",
    "\n",
    "    os.system('mv ' + old_sp_path + ' ' + new_sp_path)\n",
    "\n",
    "    # READ RESULTS GET POWER DENSITY\n",
    "    #Collecting the output (for simplicity, the k)\n",
    "    sp=openmc.StatePoint(new_sp_path)\n",
    "\n",
    "    # Get the axial power density from the iteration\n",
    "    q3_unrelaxed, z, q3std, A = ExtractPower.eval_from_fission(sp, i)\n",
    "    q3_integral = np.trapz(q3_unrelaxed, z)\n",
    "    uq3_integral = np.trapz(q3std, z)\n",
    "\n",
    "    \n",
    "    \n",
    "    # underrelaxation stuff\n",
    "    if i == 0:  \n",
    "        print('\\n   Input Pin Power: {:.2f}'.format(Power/1000) + ' kW') \n",
    "        print('   Pin Power calculated (MC): {:.4f}'.format(A*q3_integral/1000) + ' +- {:.2f}'.format(A*uq3_integral/1000) +' kW\\n')\n",
    "\n",
    "        q3_relaxed_list.append(q3_unrelaxed)\n",
    "        q3_relaxed = q3_unrelaxed\n",
    "        q3_std_list.append(q3std)\n",
    "        z_list.append(z)\n",
    "\n",
    "        # Under Relaxation\n",
    "        sn = (s1+ np.sqrt(s1*s1 + 4 * s1 * sum_s))/2\n",
    "        sum_s=sn\n",
    "        error = 1\n",
    "\n",
    "    if i>0:\n",
    "        sn = (s1+ np.sqrt(s1*s1 + 4 * s1 * sum_s))/2\n",
    "        sum_s = sum_s + sn\n",
    "        alpha = sn/sum_s\n",
    "\n",
    "        alpha_list.append(alpha)\n",
    "        pop_list.append(sn)\n",
    "    \n",
    "        q3_relaxed = q3_unrelaxed * alpha + q3_relaxed_list[i-1] * (1-alpha)\n",
    "        \n",
    "        errors_q3 = np.sqrt(np.trapz( (q3_relaxed - q3_relaxed_list[i-1])**2, z) / np.trapz( (q3_relaxed)**2, z))\n",
    "        errors_q3_list.append(errors_q3)\n",
    "\n",
    "        q3_relaxed_list.append(q3_relaxed)\n",
    "        q3_std_list.append(q3std)\n",
    "    \n",
    "\n",
    "    #Print the k value at the iteration\n",
    "    k_eff = sp.keff\n",
    "    keff = k_eff.n\n",
    "    ukeff = k_eff.std_dev\n",
    "    print('   keff: {:.6f}'.format(keff) + ' +- {:.6f}'.format(ukeff))\n",
    "    #print('   alpha = {:.4f}'.format(alpha)) \n",
    "    #print('   Next pop size = ' + str(round(sn))+' (neutrons/cycle)\\n')\n",
    "\n",
    "\n",
    "    print('  Running FEniCSx')\n",
    "    #q3_relaxed = q3_unrelaxed\n",
    "    #power_fun_fuel = th_input.mapping_q3(z, q3_relaxed,l_active,l_active)\n",
    "    power_fun_fuel, Tb_fun, res_bulk = th_input.mapping_q3_Tb_1D(z, q3_relaxed, Tin, total_length, l_active, fuel_or)\n",
    "    power_fun_gap = th_input.mapping_q3(z, q3_relaxed*0,total_length,l_active)\n",
    "    power_fun_clad = th_input.mapping_q3(z, q3_relaxed*0,total_length,l_active)\n",
    "    \n",
    "    bcs[0].Tb = Tb_fun\n",
    "    \n",
    "\n",
    "\n",
    "\n",
    "\n",
    "    #initialise Bcs\n",
    "    TH.applyBCs(bcs)\n",
    "    #Assamble the thermal system\n",
    "    TH.assemble()\n",
    "    T_sol, q_sol = TH.solve([power_fun_fuel,power_fun_gap,power_fun_clad], power_integral= Power)\n",
    "\n",
    "    # Computing regional average temperature\n",
    "    average_T = []\n",
    "    average_T.append(TH.computeSolidAverageT_Z(vol_markers[0], T_sol, slices))\n",
    "\n",
    "    dimz_full = z.shape[0]\n",
    "    if z.shape[0] < 100:\n",
    "        dimz_full = 100\n",
    "    else:\n",
    "        dimz_full = z.shape[0]+100\n",
    "    average_T.append(th_input.computeWaterAverageT(slices, dimz_full))\n",
    "\n",
    "\n",
    "    error_L2 = Vnorms.L2norm(T_sol - T_old) / Vnorms.L2norm(T_old)\n",
    "    \n",
    "    T_old.x.array[:] = T_sol.x.array\n",
    "\n",
    "    Tguess = average_T.copy()\n",
    "    \n",
    "    i += 1\n",
    "\n",
    "    error = errors_q3_list[i-1] + error_L2\n",
    "\n",
    "    print('  ')\n",
    "    if i > 0:\n",
    "        print('  Error on power density: {:.6f}'.format(errors_q3_list[i-1]))\n",
    "        print('  Error on temperature  : {:.6f}'.format(error_L2))\n",
    "        print('  ')\n",
    "\n",
    "    if error > tol:\n",
    "        xml_materials.update(Tguess[0], Tguess[1], sn, i) # Qui va generalizzato al numero di materiali da updatare\n",
    "    else:\n",
    "        print('Convergence reached!')\n",
    "\n",
    "    if i >= maxIter:\n",
    "        error = 0\n",
    "        print(' ')\n",
    "        print('###############################################################')\n",
    "        print(' ')\n",
    "        print('Warning: Maximum Number of iteration reached!')\n",
    "\n",
    "\n",
    "# Temperature storage in .xdfm and .h5 format\n",
    "saveScalarFieldToFile(domain,T_sol,file_name = path_res+\"T_sol\",field_name = \"T\")"
   ]
  },
  {
   "cell_type": "markdown",
   "metadata": {},
   "source": [
    "### Post processing"
   ]
  },
  {
   "cell_type": "code",
   "execution_count": 13,
   "metadata": {},
   "outputs": [],
   "source": [
    "#VERIFICATION DATA\n",
    "import pandas as pd\n",
    "\n",
    "castagna_res = dict()\n",
    "\n",
    "df = pd.read_csv(benchmark_path+'castagna_fuel_temperature.csv')\n",
    "castagna_res['fuel_temp'] = df.to_numpy()\n",
    "\n",
    "df = pd.read_csv(benchmark_path+'castagna_coolant_temperature.csv')\n",
    "castagna_res['coolant_temp'] = df.to_numpy()\n",
    "\n",
    "df = pd.read_csv(benchmark_path+'castagna_fission_rate_density.csv')\n",
    "castagna_res['fission_rate'] = df.to_numpy()"
   ]
  },
  {
   "cell_type": "code",
   "execution_count": 14,
   "metadata": {},
   "outputs": [],
   "source": [
    "slices = np.linspace(base_z, base_z + l_active,n_div)\n",
    "# Computing regional average temperature\n",
    "average_T = []\n",
    "average_T.append(TH.computeSolidAverageT_Z(vol_markers[0], T_sol, slices))\n",
    "\n",
    "dimz_full = z.shape[0]\n",
    "if z.shape[0] < 100:\n",
    "    dimz_full = 100\n",
    "else:\n",
    "    dimz_full = z.shape[0]+100\n",
    "average_T.append(th_input.computeWaterAverageT(slices, dimz_full))"
   ]
  },
  {
   "cell_type": "code",
   "execution_count": 15,
   "metadata": {},
   "outputs": [
    {
     "data": {
      "image/png": "[encoded data removed]",
      "text/plain": [
       "<Figure size 640x480 with 1 Axes>"
      ]
     },
     "metadata": {},
     "output_type": "display_data"
    }
   ],
   "source": [
    "# slices = np.linspace(base_z, base_z + l_active,n_div)\n",
    "# TT = TH.computeSolidAverageT_Z(vol_markers[0], T_sol, slices)\n",
    "\n",
    "# fig, ax = plt.subplots(ncols = 3, figsize =(10,5))\n",
    "# ax[0].scatter(x = slices[0:-1], y = TT)#average_T[0])\n",
    "# ax[0].plot(castagna_res['fuel_temp'][:,0]-l_active/2,castagna_res['fuel_temp'][:,1], 'r')\n",
    "# ax[0].set_ylabel(\"Average fuel Temperature (K)\")\n",
    "# #ax[1].scatter(x =slices[0:-1],y =average_T[1])\n",
    "# ax[1].plot(castagna_res['coolant_temp'][:,0]-l_active/2,castagna_res['coolant_temp'][:,1])\n",
    "# ax[1].set_ylabel(\"Average water Temperature (K)\")\n",
    "# ax[2].plot(z,q3_unrelaxed/np.max(q3_unrelaxed))\n",
    "# ax[2].plot(castagna_res['fission_rate'][:,0]-l_active/2,castagna_res['fission_rate'][:,1]/np.max(castagna_res['fission_rate'][:,1]),'r')\n",
    "# ax[2].set_ylabel(\"Power density\")\n",
    "\n",
    "# plt.tight_layout()\n",
    "\n",
    "plt.plot(z,q3_unrelaxed/np.max(q3_unrelaxed), label='OFELIA+')\n",
    "plt.plot(castagna_res['fission_rate'][:,0]-l_active/2,castagna_res['fission_rate'][:,1]/np.max(castagna_res['fission_rate'][:,1]),'r', label='Castagna')\n",
    "plt.ylabel(\"Power density\")\n",
    "plt.xlabel(\"z (cm)\")\n",
    "plt.legend()\n",
    "plt.savefig(path_res+'power_density.png')"
   ]
  },
  {
   "cell_type": "code",
   "execution_count": 16,
   "metadata": {},
   "outputs": [
    {
     "data": {
      "image/png": "[encoded data removed]",
      "text/plain": [
       "<Figure size 640x480 with 1 Axes>"
      ]
     },
     "metadata": {},
     "output_type": "display_data"
    }
   ],
   "source": [
    "zz = np.zeros((3,100))\n",
    "zz[2] = np.linspace(slices[0],slices[-1],100)\n",
    "output_di_quella_funzione = dataOverLine(domain = domain, points = zz)\n",
    "\n",
    "plt.plot(zz[2],T_sol.eval(*output_di_quella_funzione))\n",
    "plt.plot(castagna_res['fuel_temp'][:,0]-l_active/2,castagna_res['fuel_temp'][:,1])\n",
    "plt.ylabel(\"Fuel Temperature (K) at the center of the pin\")\n",
    "plt.xlabel(\"z (cm)\")\n",
    "plt.savefig(path_res+'fuel_temp.png')"
   ]
  },
  {
   "cell_type": "code",
   "execution_count": 17,
   "metadata": {},
   "outputs": [
    {
     "name": "stdout",
     "output_type": "stream",
     "text": [
      "maximum temperature:  1519.483460161903\n",
      "maximum temperature:  1504.566870326379\n"
     ]
    }
   ],
   "source": [
    "print(\"maximum temperature: \", np.max(T_sol.x.array))\n",
    "print(\"maximum temperature: \", np.max(castagna_res['fuel_temp'][:,1]))\n"
   ]
  }
 ],
 "metadata": {
  "kernelspec": {
   "display_name": "ofelia",
   "language": "python",
   "name": "python3"
  },
  "language_info": {
   "codemirror_mode": {
    "name": "ipython",
    "version": 3
   },
   "file_extension": ".py",
   "mimetype": "text/x-python",
   "name": "python",
   "nbconvert_exporter": "python",
   "pygments_lexer": "ipython3",
   "version": "3.10.14"
  }
 },
 "nbformat": 4,
 "nbformat_minor": 2
}
